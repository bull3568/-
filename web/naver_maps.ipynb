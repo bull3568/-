{
 "cells": [
  {
   "cell_type": "code",
   "execution_count": 8,
   "metadata": {},
   "outputs": [
    {
     "name": "stdout",
     "output_type": "stream",
     "text": [
      "=== 목적지로 가는 경로 ===\n",
      "걸어서 3분 이동 (거리 0.2 km)\n",
      "서초중학교에서 버스 서울 간선버스을 타고 지하철2호선방배역까지 이동\n",
      "출발 시간: 오전 10:28, 도착 시간: 오전 10:33, 정류장 수: 3\n",
      "걸어서 2분 이동 (거리 0.1 km)\n",
      "방배에서 지하철 서울 지하철 2호선을 타고 구로디지털단지까지 이동\n",
      "출발 시간: 오전 10:38, 도착 시간: 오전 10:54, 정류장 수: 7\n",
      "걸어서 3분 이동 (거리 0.2 km)\n",
      "\n",
      "=== 출발지로 돌아오는 경로 ===\n",
      "걸어서 3분 이동 (거리 0.2 km)\n",
      "구로디지털단지에서 지하철 서울 지하철 2호선을 타고 방배까지 이동\n",
      "출발 시간: 오전 10:31, 도착 시간: 오전 10:48, 정류장 수: 7\n",
      "걸어서 2분 이동 (거리 0.1 km)\n",
      "방배역.백석예술대학교에서 버스 서울 간선버스을 타고 서초중학교까지 이동\n",
      "출발 시간: 오전 10:53, 도착 시간: 오전 10:59, 정류장 수: 3\n",
      "걸어서 2분 이동 (거리 0.1 km)\n"
     ]
    }
   ],
   "source": [
    "# 구글 maps 예시"
   ]
  },
  {
   "cell_type": "code",
   "execution_count": 11,
   "metadata": {},
   "outputs": [
    {
     "name": "stdout",
     "output_type": "stream",
     "text": [
      "출발지에서 도착지까지 이동 시간: 0시간 28분\n",
      "도착지에서 출발지까지 이동 시간: 0시간 37분\n"
     ]
    }
   ],
   "source": [
    "import requests\n",
    "\n",
    "def get_coordinates(client_id, client_secret, address):\n",
    "    url = \"https://naveropenapi.apigw.ntruss.com/map-geocode/v2/geocode\"\n",
    "    headers = {\n",
    "        \"X-NCP-APIGW-API-KEY-ID\": client_id,\n",
    "        \"X-NCP-APIGW-API-KEY\": client_secret\n",
    "    }\n",
    "    params = {\n",
    "        'query': address\n",
    "    }\n",
    "    response = requests.get(url, headers=headers, params=params)\n",
    "    if response.status_code == 200:\n",
    "        data = response.json()\n",
    "        if data['addresses']:\n",
    "            x = data['addresses'][0]['x']  # 경도\n",
    "            y = data['addresses'][0]['y']  # 위도\n",
    "            return x, y\n",
    "        else:\n",
    "            print(f\"주소를 찾을 수 없습니다: {address}\")\n",
    "            return None, None\n",
    "    else:\n",
    "        print(\"Failed to retrieve data:\", response.status_code, response.text)\n",
    "        return None, None\n",
    "\n",
    "def get_driving_route(client_id, client_secret, start, goal):\n",
    "    url = \"https://naveropenapi.apigw.ntruss.com/map-direction/v1/driving\"\n",
    "    headers = {\n",
    "        \"X-NCP-APIGW-API-KEY-ID\": client_id,\n",
    "        \"X-NCP-APIGW-API-KEY\": client_secret\n",
    "    }\n",
    "    params = {\n",
    "        'start': f\"{start[0]},{start[1]}\",\n",
    "        'goal': f\"{goal[0]},{goal[1]}\",\n",
    "        'option': 'trafast'  # 최적 경로 옵션\n",
    "    }\n",
    "    response = requests.get(url, headers=headers, params=params)\n",
    "    if response.status_code == 200:\n",
    "        return response.json()\n",
    "    else:\n",
    "        print(\"Failed to retrieve data:\", response.status_code, response.text)\n",
    "        return None\n",
    "\n",
    "def print_route_duration(route_info, direction):\n",
    "    if route_info and 'route' in route_info and 'trafast' in route_info['route']:\n",
    "        duration_ms = route_info['route']['trafast'][0]['summary']['duration']\n",
    "        duration_seconds = duration_ms // 1000  # 밀리초를 초로 변환\n",
    "        hours, remainder = divmod(duration_seconds, 3600)\n",
    "        minutes, _ = divmod(remainder, 60)\n",
    "        print(f\"{direction} 이동 시간: {hours}시간 {minutes}분\")\n",
    "    else:\n",
    "        print(f\"{direction} 경로 정보를 가져올 수 없습니다.\")\n",
    "\n",
    "# 클라이언트 ID와 비밀번호\n",
    "client_id = 'gx4wwzfwty'\n",
    "client_secret = '71tBFr6FCb6qJPGzS5HjLekN8qhPIsBryYehi5d2'\n",
    "\n",
    "# 주소를 입력하세요\n",
    "start_address = '서울시 서초구 효령로 46길 21'\n",
    "goal_address = '서울 구로구 디지털로32나길 22'\n",
    "\n",
    "# 주소를 경도와 위도로 변환\n",
    "start_coordinates = get_coordinates(client_id, client_secret, start_address)\n",
    "goal_coordinates = get_coordinates(client_id, client_secret, goal_address)\n",
    "\n",
    "if start_coordinates and goal_coordinates:\n",
    "    # 출발지에서 도착지까지의 경로\n",
    "    route_info_to = get_driving_route(client_id, client_secret, start_coordinates, goal_coordinates)\n",
    "    print_route_duration(route_info_to, \"출발지에서 도착지까지\")\n",
    "\n",
    "    # 도착지에서 출발지까지의 경로\n",
    "    route_info_from = get_driving_route(client_id, client_secret, goal_coordinates, start_coordinates)\n",
    "    print_route_duration(route_info_from, \"도착지에서 출발지까지\")\n"
   ]
  }
 ],
 "metadata": {
  "kernelspec": {
   "display_name": "Python 3",
   "language": "python",
   "name": "python3"
  },
  "language_info": {
   "codemirror_mode": {
    "name": "ipython",
    "version": 3
   },
   "file_extension": ".py",
   "mimetype": "text/x-python",
   "name": "python",
   "nbconvert_exporter": "python",
   "pygments_lexer": "ipython3",
   "version": "3.12.2"
  }
 },
 "nbformat": 4,
 "nbformat_minor": 2
}
